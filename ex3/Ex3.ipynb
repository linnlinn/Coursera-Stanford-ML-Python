{
 "cells": [
  {
   "cell_type": "code",
   "execution_count": 16,
   "metadata": {
    "collapsed": false
   },
   "outputs": [
    {
     "name": "stderr",
     "output_type": "stream",
     "text": [
      "C:\\Users\\HTDA\\Anaconda2\\lib\\site-packages\\matplotlib\\__init__.py:1401: UserWarning:  This call to matplotlib.use() has no effect\n",
      "because the backend has already been chosen;\n",
      "matplotlib.use() must be called *before* pylab, matplotlib.pyplot,\n",
      "or matplotlib.backends is imported for the first time.\n",
      "\n",
      "  warnings.warn(_use_error_msg)\n"
     ]
    }
   ],
   "source": [
    "## Machine Learning Online Class - Exercise 3 | Part 1: One-vs-all\n",
    "import scipy.io\n",
    "import numpy as np\n",
    "from matplotlib import use\n",
    "import matplotlib.pyplot as plt\n",
    "use('TkAgg')\n",
    "%matplotlib inline\n",
    "\n",
    "#from oneVsAll import oneVsAll\n",
    "#from predictOneVsAll import predictOneVsAll\n",
    "#from displayData import displayData\n",
    "\n",
    "#  Instructions\n",
    "#  ------------\n",
    "# \n",
    "#  This file contains code that helps you get started on the\n",
    "#  linear exercise. You will need to complete the following functions \n",
    "#  in this exericse:\n",
    "#\n",
    "#     lrCostFunction.m (logistic regression cost function)\n",
    "#     oneVsAll.m\n",
    "#     predictOneVsAll.m\n",
    "#     predict.m\n",
    "#\n",
    "#  For this exercise, you will not need to change any code in this file,\n",
    "#  or any other files other than those mentioned above.\n",
    "#"
   ]
  },
  {
   "cell_type": "code",
   "execution_count": 4,
   "metadata": {
    "collapsed": true
   },
   "outputs": [],
   "source": [
    "## Setup the parameters you will use for this part of the exercise\n",
    "input_layer_size  = 400  # 20x20 Input Images of Digits\n",
    "num_labels = 10          # 10 labels, from 1 to 10\n",
    "                         # (note that we have mapped \"0\" to label 10)"
   ]
  },
  {
   "cell_type": "code",
   "execution_count": 17,
   "metadata": {
    "collapsed": true
   },
   "outputs": [],
   "source": [
    "## displayData.py\n",
    "## ==============================================\n",
    "\n",
    "def displayData(X):\n",
    "    \"\"\"displays 2D data\n",
    "      stored in X in a nice grid. It returns the figure handle h and the\n",
    "      displayed array if requested.\"\"\"\n",
    "\n",
    "# Compute rows, cols\n",
    "    m, n = X.shape\n",
    "    example_width = round(np.sqrt(n))\n",
    "    example_height = (n / example_width)\n",
    "\n",
    "# Compute number of items to display\n",
    "    display_rows = np.floor(np.sqrt(m))\n",
    "    display_cols = np.ceil(m / display_rows)\n",
    "\n",
    "# Between images padding\n",
    "    pad = 1\n",
    "\n",
    "# Setup blank display\n",
    "    display_array = - np.ones((pad + display_rows * (example_height + pad),\n",
    "                           pad + display_cols * (example_width + pad)))\n",
    "\n",
    "# Copy each example into a patch on the display array\n",
    "    curr_ex = 0\n",
    "    for j in np.arange(display_rows):\n",
    "        for i in np.arange(display_cols):\n",
    "            if curr_ex > m:\n",
    "                break\n",
    "            # Get the max value of the patch\n",
    "            max_val = np.max(np.abs(X[curr_ex, : ]))\n",
    "            rows = [pad + j * (example_height + pad) + x for x in np.arange(example_height+1)]\n",
    "            cols = [pad + i * (example_width + pad)  + x for x in np.arange(example_width+1)]\n",
    "            display_array[min(rows):max(rows), min(cols):max(cols)] = X[curr_ex, :].reshape(example_height, example_width) / max_val\n",
    "            curr_ex = curr_ex + 1\n",
    "        if curr_ex > m:\n",
    "            break\n",
    "\n",
    "# Display Image\n",
    "    display_array = display_array.astype('float32')\n",
    "    plt.imshow(display_array.T)\n",
    "    plt.set_cmap('gray')\n",
    "# Do not show axis\n",
    "    plt.axis('off')\n",
    "\n",
    "\n"
   ]
  },
  {
   "cell_type": "code",
   "execution_count": 18,
   "metadata": {
    "collapsed": false
   },
   "outputs": [],
   "source": [
    "## =========== Part 1: Loading and Visualizing Data =============\n",
    "#  We start the exercise by first loading and visualizing the dataset. \n",
    "#  You will be working with a dataset that contains handwritten digits.\n",
    "#\n",
    "\n",
    "data = scipy.io.loadmat('ex3data1.mat') # training data stored in arrays X, y\n",
    "X = data['X']\n",
    "y = data['y']\n",
    "m, _ = X.shape\n",
    "\n",
    "# Randomly select 100 data points to display\n",
    "rand_indices = np.random.permutation(range(m))\n",
    "sel = X[rand_indices[0:100], :]"
   ]
  },
  {
   "cell_type": "code",
   "execution_count": 19,
   "metadata": {
    "collapsed": false
   },
   "outputs": [
    {
     "name": "stderr",
     "output_type": "stream",
     "text": [
      "C:\\Users\\HTDA\\Anaconda2\\lib\\site-packages\\ipykernel\\__main__.py:35: VisibleDeprecationWarning: using a non-integer number instead of an integer will result in an error in the future\n"
     ]
    },
    {
     "data": {
      "image/png": "[encoded data removed]",
      "text/plain": [
       "<matplotlib.figure.Figure at 0x8da1b70>"
      ]
     },
     "metadata": {},
     "output_type": "display_data"
    }
   ],
   "source": [
    "displayData(sel)"
   ]
  },
  {
   "cell_type": "code",
   "execution_count": 21,
   "metadata": {
    "collapsed": true
   },
   "outputs": [],
   "source": [
    "## ============ Part 2: Vectorize Logistic Regression ============\n",
    "#  In this part of the exercise, you will reuse your logistic regression\n",
    "#  code from the last exercise. You task here is to make sure that your\n",
    "#  regularized logistic regression implementation is vectorized. After\n",
    "#  that, you will implement one-vs-all classification for the handwritten\n",
    "#  digit dataset.\n",
    "#"
   ]
  },
  {
   "cell_type": "code",
   "execution_count": 24,
   "metadata": {
    "collapsed": true
   },
   "outputs": [],
   "source": [
    "import numpy as np\n",
    "from scipy.optimize import minimize\n",
    "\n",
    "\n",
    "#from lrCostFunction import lrCostFunction\n",
    "#from ex2.gradientFunctionReg import gradientFunctionReg"
   ]
  },
  {
   "cell_type": "code",
   "execution_count": 28,
   "metadata": {
    "collapsed": true
   },
   "outputs": [],
   "source": [
    "## gradientFunctionReg -- import\n",
    "## ====================================\n",
    "from numpy import e\n",
    "\n",
    "def sigmoid(z):\n",
    "    \"\"\"computes the sigmoid of z.\"\"\"\n",
    "    g = 1/(1+e ** (-z))\n",
    "\n",
    "\n",
    "    return g\n",
    "\n",
    "def h(theta,X):\n",
    "    return sigmoid(np.dot(X,theta.T))\n",
    "\n",
    "#from sigmoid import sigmoid\n",
    "from numpy import squeeze, asarray\n",
    "\n",
    "\n",
    "def gradientFunction(theta, X, y):\n",
    "    \"\"\"\n",
    "    Compute cost and gradient for logistic regression with regularization\n",
    "\n",
    "    computes the cost of using theta as the parameter for regularized logistic regression and the\n",
    "    gradient of the cost w.r.t. to the parameters.\n",
    "    \"\"\"\n",
    "\n",
    "    m = len(y)   # number of training examples\n",
    "    \n",
    "    grad = np.dot(h(theta, X) - y.T, X)/m\n",
    "\n",
    "    return grad[0]\n",
    "\n",
    "def gradientFunctionReg(theta, X, y, Lambda):\n",
    "    \"\"\"\n",
    "    Compute cost and gradient for logistic regression with regularization\n",
    "\n",
    "    computes the cost of using theta as the parameter for regularized logistic regression and the\n",
    "    gradient of the cost w.r.t. to the parameters.\n",
    "    \"\"\"\n",
    "    m = len(y)   # number of training examples\n",
    "    theta0=np.copy(theta)\n",
    "    theta0[0]=0\n",
    "    grad = gradientFunction(theta, X, y) + Lambda * theta0 / m\n",
    "\n",
    "    return grad"
   ]
  },
  {
   "cell_type": "code",
   "execution_count": 26,
   "metadata": {
    "collapsed": true
   },
   "outputs": [],
   "source": [
    "## lrCostFuction -- immport\n",
    "## ==================================\n",
    "\n",
    "#from ex2.costFunctionReg import costFunctionReg\n",
    "def costFunction(theta, X,y):\n",
    "    \"\"\" computes the cost of using theta as the\n",
    "    parameter for logistic regression and the\n",
    "    gradient of the cost w.r.t. to the parameters.\"\"\"\n",
    "\n",
    "# Initialize some useful values\n",
    "    m = y.size # number of training examples\n",
    "    J = (-y.T * log(h(theta,X)) - (1-y.T) * log(1 - h(theta,X))).sum(axis=1)/m\n",
    "    return J.sum()\n",
    "\n",
    "def costFunctionReg(theta, X, y, Lambda):\n",
    "    \"\"\"\n",
    "    Compute cost and gradient for logistic regression with regularization\n",
    "\n",
    "    computes the cost of using theta as the parameter for regularized logistic regression and the\n",
    "    gradient of the cost w.r.t. to the parameters.\n",
    "    \"\"\"\n",
    "    # Initialize some useful values\n",
    "    m = len(y)   # number of training examples\n",
    "    J = costFunction(theta, X, y) + (Lambda/(2*m)) * sum(theta[1:] ** 2)\n",
    "\n",
    "    return J\n",
    "\n",
    "\n",
    "def lrCostFunction(theta, X, y, Lambda):\n",
    "    \"\"\"computes the cost of using\n",
    "    theta as the parameter for regularized logistic regression and the\n",
    "    gradient of the cost w.r.t. to the parameters.\n",
    "    \"\"\"\n",
    "\n",
    "# ====================== YOUR CODE HERE ======================\n",
    "# Instructions: Compute the cost of a particular choice of theta.\n",
    "#               You should set J to the cost.\n",
    "#\n",
    "# Hint: The computation of the cost function and gradients can be\n",
    "#       efficiently vectorized. For example, consider the computation\n",
    "#\n",
    "#           sigmoid(X * theta)\n",
    "#\n",
    "#       Each row of the resulting matrix will contain the value of the\n",
    "#       prediction for that example. You can make use of this to vectorize\n",
    "#       the cost function and gradient computations. \n",
    "#\n",
    "\n",
    "\n",
    "\n",
    "    # =============================================================\n",
    "\n",
    "    return J\n"
   ]
  },
  {
   "cell_type": "code",
   "execution_count": 23,
   "metadata": {
    "collapsed": true
   },
   "outputs": [],
   "source": []
  },
  {
   "cell_type": "code",
   "execution_count": null,
   "metadata": {
    "collapsed": true
   },
   "outputs": [],
   "source": []
  },
  {
   "cell_type": "code",
   "execution_count": null,
   "metadata": {
    "collapsed": true
   },
   "outputs": [],
   "source": [
    "def oneVsAll(X, y, num_labels, Lambda):\n",
    "    \"\"\"trains multiple logistic regression classifiers and returns all\n",
    "        the classifiers in a matrix all_theta, where the i-th row of all_theta\n",
    "        corresponds to the classifier for label i\n",
    "    \"\"\"\n",
    "\n",
    "# Some useful variables\n",
    "    m, n = X.shape\n",
    "\n",
    "# You need to return the following variables correctly \n",
    "    all_theta = np.zeros((num_labels, n + 1))\n",
    "\n",
    "# Add ones to the X data matrix\n",
    "    X = np.column_stack((np.ones((m, 1)), X))\n",
    "\n",
    "# ====================== YOUR CODE HERE ======================\n",
    "# Instructions: You should complete the following code to train num_labels\n",
    "#               logistic regression classifiers with regularization\n",
    "#               parameter lambda. \n",
    "#\n",
    "# Hint: theta(:) will return a column vector.\n",
    "#\n",
    "# Hint: You can use y == c to obtain a vector of 1's and 0's that tell use \n",
    "#       whether the ground truth is true/false for this class.\n",
    "#\n",
    "# Note: For this assignment, we recommend using fmincg to optimize the cost\n",
    "#       function. It is okay to use a for-loop (for c = 1:num_labels) to\n",
    "#       loop over the different classes.\n",
    "\n",
    "    # Set Initial theta\n",
    "    initial_theta = np.zeros((n + 1, 1))\n",
    "\n",
    "    # This function will return theta and the cost\n",
    "\n",
    "\n",
    "\n",
    "# =========================================================================\n",
    "\n",
    "    return all_theta"
   ]
  },
  {
   "cell_type": "code",
   "execution_count": 27,
   "metadata": {
    "collapsed": false
   },
   "outputs": [
    {
     "name": "stdout",
     "output_type": "stream",
     "text": [
      "Training One-vs-All Logistic Regression...\n"
     ]
    },
    {
     "ename": "NameError",
     "evalue": "name 'oneVsAll' is not defined",
     "output_type": "error",
     "traceback": [
      "\u001b[0;31m---------------------------------------------------------------------------\u001b[0m",
      "\u001b[0;31mNameError\u001b[0m                                 Traceback (most recent call last)",
      "\u001b[0;32m<ipython-input-27-862c2283c4ce>\u001b[0m in \u001b[0;36m<module>\u001b[0;34m()\u001b[0m\n\u001b[1;32m      2\u001b[0m \u001b[1;33m\u001b[0m\u001b[0m\n\u001b[1;32m      3\u001b[0m \u001b[0mLambda\u001b[0m \u001b[1;33m=\u001b[0m \u001b[1;36m0.1\u001b[0m\u001b[1;33m\u001b[0m\u001b[0m\n\u001b[0;32m----> 4\u001b[0;31m \u001b[0mall_theta\u001b[0m \u001b[1;33m=\u001b[0m \u001b[0moneVsAll\u001b[0m\u001b[1;33m(\u001b[0m\u001b[0mX\u001b[0m\u001b[1;33m,\u001b[0m \u001b[0my\u001b[0m\u001b[1;33m,\u001b[0m \u001b[0mnum_labels\u001b[0m\u001b[1;33m,\u001b[0m \u001b[0mLambda\u001b[0m\u001b[1;33m)\u001b[0m\u001b[1;33m\u001b[0m\u001b[0m\n\u001b[0m",
      "\u001b[0;31mNameError\u001b[0m: name 'oneVsAll' is not defined"
     ]
    }
   ],
   "source": [
    "print 'Training One-vs-All Logistic Regression...'\n",
    "\n",
    "Lambda = 0.1\n",
    "all_theta = oneVsAll(X, y, num_labels, Lambda)"
   ]
  },
  {
   "cell_type": "code",
   "execution_count": 20,
   "metadata": {
    "collapsed": false
   },
   "outputs": [
    {
     "name": "stdout",
     "output_type": "stream",
     "text": [
      "Training One-vs-All Logistic Regression...\n"
     ]
    },
    {
     "ename": "NameError",
     "evalue": "name 'oneVsAll' is not defined",
     "output_type": "error",
     "traceback": [
      "\u001b[0;31m---------------------------------------------------------------------------\u001b[0m",
      "\u001b[0;31mNameError\u001b[0m                                 Traceback (most recent call last)",
      "\u001b[0;32m<ipython-input-20-d127dde1dd31>\u001b[0m in \u001b[0;36m<module>\u001b[0;34m()\u001b[0m\n\u001b[1;32m     10\u001b[0m \u001b[1;33m\u001b[0m\u001b[0m\n\u001b[1;32m     11\u001b[0m \u001b[0mLambda\u001b[0m \u001b[1;33m=\u001b[0m \u001b[1;36m0.1\u001b[0m\u001b[1;33m\u001b[0m\u001b[0m\n\u001b[0;32m---> 12\u001b[0;31m \u001b[0mall_theta\u001b[0m \u001b[1;33m=\u001b[0m \u001b[0moneVsAll\u001b[0m\u001b[1;33m(\u001b[0m\u001b[0mX\u001b[0m\u001b[1;33m,\u001b[0m \u001b[0my\u001b[0m\u001b[1;33m,\u001b[0m \u001b[0mnum_labels\u001b[0m\u001b[1;33m,\u001b[0m \u001b[0mLambda\u001b[0m\u001b[1;33m)\u001b[0m\u001b[1;33m\u001b[0m\u001b[0m\n\u001b[0m\u001b[1;32m     13\u001b[0m \u001b[1;33m\u001b[0m\u001b[0m\n\u001b[1;32m     14\u001b[0m \u001b[0mraw_input\u001b[0m\u001b[1;33m(\u001b[0m\u001b[1;34m\"Program paused. Press Enter to continue...\"\u001b[0m\u001b[1;33m)\u001b[0m\u001b[1;33m\u001b[0m\u001b[0m\n",
      "\u001b[0;31mNameError\u001b[0m: name 'oneVsAll' is not defined"
     ]
    }
   ],
   "source": [
    "## ================ Part 3: Predict for One-Vs-All ================\n",
    "#  After ...\n",
    "pred = predictOneVsAll(all_theta, X)\n",
    "\n",
    "accuracy = np.mean(np.double(pred == np.squeeze(y))) * 100\n",
    "print '\\nTraining Set Accuracy: %f\\n' % accuracy"
   ]
  },
  {
   "cell_type": "code",
   "execution_count": null,
   "metadata": {
    "collapsed": true
   },
   "outputs": [],
   "source": []
  },
  {
   "cell_type": "code",
   "execution_count": null,
   "metadata": {
    "collapsed": true
   },
   "outputs": [],
   "source": []
  },
  {
   "cell_type": "code",
   "execution_count": null,
   "metadata": {
    "collapsed": true
   },
   "outputs": [],
   "source": []
  },
  {
   "cell_type": "code",
   "execution_count": null,
   "metadata": {
    "collapsed": true
   },
   "outputs": [],
   "source": []
  },
  {
   "cell_type": "code",
   "execution_count": null,
   "metadata": {
    "collapsed": true
   },
   "outputs": [],
   "source": []
  },
  {
   "cell_type": "code",
   "execution_count": null,
   "metadata": {
    "collapsed": true
   },
   "outputs": [],
   "source": []
  },
  {
   "cell_type": "code",
   "execution_count": null,
   "metadata": {
    "collapsed": true
   },
   "outputs": [],
   "source": []
  },
  {
   "cell_type": "code",
   "execution_count": null,
   "metadata": {
    "collapsed": true
   },
   "outputs": [],
   "source": []
  },
  {
   "cell_type": "code",
   "execution_count": null,
   "metadata": {
    "collapsed": true
   },
   "outputs": [],
   "source": []
  },
  {
   "cell_type": "code",
   "execution_count": null,
   "metadata": {
    "collapsed": true
   },
   "outputs": [],
   "source": []
  }
 ],
 "metadata": {
  "kernelspec": {
   "display_name": "Python 2",
   "language": "python",
   "name": "python2"
  },
  "language_info": {
   "codemirror_mode": {
    "name": "ipython",
    "version": 2
   },
   "file_extension": ".py",
   "mimetype": "text/x-python",
   "name": "python",
   "nbconvert_exporter": "python",
   "pygments_lexer": "ipython2",
   "version": "2.7.13"
  }
 },
 "nbformat": 4,
 "nbformat_minor": 2
}
